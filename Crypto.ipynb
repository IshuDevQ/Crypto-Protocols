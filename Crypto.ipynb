{
 "cells": [
  {
   "cell_type": "code",
   "execution_count": 26,
   "metadata": {},
   "outputs": [
    {
     "name": "stdout",
     "output_type": "stream",
     "text": [
      "The two messages differ by 1 characters\n"
     ]
    }
   ],
   "source": [
    "# Begin by importing some necessary modules\n",
    "from cryptography.hazmat.backends import default_backend\n",
    "from cryptography.hazmat.primitives import hashes\n",
    "\n",
    "#Helper function that returns the number of characters different in two strings\n",
    "def char_diff(str1, str2):\n",
    "    return sum ( str1[i] != str2[i] for i in range(len(str1)) )\n",
    "\n",
    "# Messages to be hashed\n",
    "message_1 = b\"Buy 10000 shares of WXYZ stock now!\"\n",
    "message_2 = b\"Buy 10000 shares of VXYZ stock now!\"\n",
    "\n",
    "print(f\"The two messages differ by { char_diff(message_1, message_2)} characters\")"
   ]
  },
  {
   "cell_type": "code",
   "execution_count": 27,
   "metadata": {},
   "outputs": [
    {
     "name": "stdout",
     "output_type": "stream",
     "text": [
      "digest-1: 6e0e6261b7131bd80ffdb2a4d42f9d042636350e45e184b92fcbcc9646eaf1e7\n",
      "digest-2: 6b0abb368c3a1730f935b68105e3f3ae7fd43d7e786d3ed3503dbb45c74ada46\n",
      "The two digests differ by 57 characters\n"
     ]
    }
   ],
   "source": [
    "# Create new SHA-256 hash objects, one for each message\n",
    "chf_1 = hashes.Hash(hashes.SHA256(), backend=default_backend())\n",
    "chf_2 = hashes.Hash(hashes.SHA256(), backend=default_backend())\n",
    "\n",
    "# Update each hash object with the bytes of the corresponding message\n",
    "chf_1.update(message_1)\n",
    "chf_2.update(message_2)\n",
    "\n",
    "# Finalize the hash process and obtain the digests\n",
    "digest_1 = chf_1.finalize()\n",
    "digest_2 = chf_2.finalize()\n",
    "\n",
    "#Convert the resulting hash to hexadecimal strings for convenient printing\n",
    "digest_1_str = digest_1.hex()\n",
    "digest_2_str = digest_2.hex()\n",
    "\n",
    "#Print out the digests as strings \n",
    "print(f\"digest-1: {digest_1_str}\")\n",
    "print(f\"digest-2: {digest_2_str}\")\n",
    "\n",
    "print(f\"The two digests differ by { char_diff(digest_1_str, digest_2_str)} characters\")"
   ]
  },
  {
   "cell_type": "code",
   "execution_count": 28,
   "metadata": {},
   "outputs": [
    {
     "name": "stdout",
     "output_type": "stream",
     "text": [
      "\n",
      "Given plaintext: this is a strict top secret message for intended recipients only\n"
     ]
    }
   ],
   "source": [
    "# import the required crypto functions which will be demonstrated later\n",
    "from secretpy import Caesar\n",
    "from cryptography.hazmat.primitives.ciphers import Cipher, algorithms, modes\n",
    "from functools import reduce\n",
    "import numpy as np\n",
    "\n",
    "# Set the plaintext we want to encrypt\n",
    "plaintext=u\"this is a strict top secret message for intended recipients only\"\n",
    "print(f\"\\nGiven plaintext: {plaintext}\")"
   ]
  },
  {
   "cell_type": "code",
   "execution_count": 29,
   "metadata": {},
   "outputs": [
    {
     "name": "stdout",
     "output_type": "stream",
     "text": [
      "Caesar shift secret key: 5\n",
      "alphabet: ('a', 'b', 'c', 'd', 'e', 'f', 'g', 'h', 'i', 'j', 'k', 'l', 'm', 'n', 'o', 'p', 'q', 'r', 's', 't', 'u', 'v', 'w', 'x', 'y', 'z', ' ')\n"
     ]
    }
   ],
   "source": [
    "# initialize the required python object for doing Caesar shift encryption\n",
    "caesar_cipher = Caesar()\n",
    "\n",
    "# Define the shift, ie the key\n",
    "caesar_key = 5 \n",
    "print(f\"Caesar shift secret key: {caesar_key}\")\n",
    "\n",
    "# Define the alphabet\n",
    "alphabet=('a', 'b', 'c', 'd', 'e', 'f', 'g', 'h', 'i', 'j', 'k', 'l', 'm', 'n', 'o', 'p', 'q', 'r', 's', 't', 'u', 'v', 'w', 'x', 'y', 'z', ' ')\n",
    "print(f\"alphabet: {alphabet}\")"
   ]
  },
  {
   "cell_type": "code",
   "execution_count": 30,
   "metadata": {},
   "outputs": [
    {
     "name": "stdout",
     "output_type": "stream",
     "text": [
      "Encrypted caeser shift ciphertext: ymnxenxefexywnhyeytuexjhwjyerjxxfljektwensyjsijiewjhnunjsyxetsqc\n"
     ]
    }
   ],
   "source": [
    "caeser_ciphertext = caesar_cipher.encrypt(plaintext, caesar_key, alphabet)\n",
    "print(f\"Encrypted caeser shift ciphertext: {caeser_ciphertext}\")"
   ]
  },
  {
   "cell_type": "code",
   "execution_count": 31,
   "metadata": {},
   "outputs": [
    {
     "name": "stdout",
     "output_type": "stream",
     "text": [
      "Decrypted caeser shift plaintext: this is a strict top secret message for intended recipients only\n",
      "\n"
     ]
    }
   ],
   "source": [
    "caeser_plaintext = caesar_cipher.decrypt(caeser_ciphertext, caesar_key, alphabet)\n",
    "print(f\"Decrypted caeser shift plaintext: {caeser_plaintext}\\n\")"
   ]
  },
  {
   "cell_type": "code",
   "execution_count": 32,
   "metadata": {},
   "outputs": [
    {
     "name": "stdout",
     "output_type": "stream",
     "text": [
      "AES secret key: nyelcdgtfiuyxdfm\n"
     ]
    }
   ],
   "source": [
    "# lamba defines an inline function in this case that takes two values a,b with the resulting expression of a+b\n",
    "# reduce uses a two-argument function(above), and applies this to all the entries in the list (random alphabet characters) cumulatively\n",
    "aes_key = reduce(lambda a, b: a + b, [np.random.choice(alphabet) for i in range(16)])\n",
    "\n",
    "print(f'AES secret key: {aes_key}')"
   ]
  },
  {
   "cell_type": "code",
   "execution_count": 33,
   "metadata": {},
   "outputs": [
    {
     "name": "stdout",
     "output_type": "stream",
     "text": [
      "AES initialization vector: mrobabyfome yhvk\n"
     ]
    }
   ],
   "source": [
    "aes_initialization_vector = reduce(lambda a, b: a + b, [np.random.choice(alphabet) for i in range(16)])\n",
    "print(f\"AES initialization vector: {aes_initialization_vector}\")\n"
   ]
  },
  {
   "cell_type": "code",
   "execution_count": 34,
   "metadata": {},
   "outputs": [
    {
     "name": "stdout",
     "output_type": "stream",
     "text": [
      "Encrypted AES ciphertext: b'\\xc5\\xbf8\\xf9\\xd4\\x04\\xfa\\x7fxJ\\xbe~\\xd7\\x1f\\xff\\x89\\x08\\xf4\\xcb\\xe4\\x81\\x9f\\xa9\\xea\\xd1\\xa1R\\xc6\\xd1\\xf9\\xd3\\xa5C\\xefNod+[\\xe7s\\xd9E\\xbf\\xbd\\x13\\xd1<\\xe0tC\\xd4N\\x8e\\xd2\\xab\\x950C\\x95\\xb1\\xae\\x95\\xc2'\n"
     ]
    }
   ],
   "source": [
    "# The encryptor is setup using the key & CBC. In both cases we need to convert the string (utf-8) into bytes\n",
    "sender_aes_cipher = Cipher(algorithms.AES(bytes(aes_key, 'utf-8')), modes.CBC(bytes(aes_initialization_vector, 'utf-8')))\n",
    "aes_encryptor = sender_aes_cipher.encryptor()\n",
    "\n",
    "# update can add text to encypt in chunks, and then finalize is needed to complete the encryption process\n",
    "aes_ciphertext = aes_encryptor.update(bytes(plaintext, 'utf-8')) + aes_encryptor.finalize()\n",
    "\n",
    "# Note the output is a string of bytes\n",
    "print(f\"Encrypted AES ciphertext: {aes_ciphertext}\")"
   ]
  },
  {
   "cell_type": "code",
   "execution_count": 35,
   "metadata": {},
   "outputs": [
    {
     "name": "stdout",
     "output_type": "stream",
     "text": [
      "Decrypted AES plaintext: this is a strict top secret message for intended recipients only\n"
     ]
    }
   ],
   "source": [
    "# Similar setup of AES to what we did for encryption, but this time, for decryption\n",
    "receiver_aes_cipher = Cipher(algorithms.AES(bytes(aes_key, 'utf-8')), modes.CBC(bytes(aes_initialization_vector, 'utf-8')))\n",
    "aes_decryptor = receiver_aes_cipher.decryptor()\n",
    "\n",
    "# Do the decryption\n",
    "aes_plaintext_bytes = aes_decryptor.update(aes_ciphertext) + aes_decryptor.finalize()\n",
    "\n",
    "# convert back to a character string (we assume utf-8)\n",
    "aes_plaintext = aes_plaintext_bytes.decode('utf-8')\n",
    "\n",
    "print(f\"Decrypted AES plaintext: {aes_plaintext}\")"
   ]
  },
  {
   "cell_type": "code",
   "execution_count": 36,
   "metadata": {},
   "outputs": [
    {
     "name": "stdout",
     "output_type": "stream",
     "text": [
      "gcd(50,10) = 10\n",
      "gcd(99,1033) = 33\n",
      "gcd(59,9) = 1\n"
     ]
    }
   ],
   "source": [
    "# Example function to compute the gcd (greatest common divisor) \n",
    "def gcd(a,b):\n",
    "    if b==0:\n",
    "        return a\n",
    "    else:\n",
    "        return gcd(b,a%b)\n",
    "    \n",
    "# let's calculate some examples using algorithm\n",
    "n1=gcd(50,10)\n",
    "n2=gcd(99,33)\n",
    "n3=gcd(59,9)\n",
    "\n",
    "# do the same with the python library call\n",
    "import math\n",
    "m1=math.gcd(50,10)\n",
    "m2=math.gcd(99,33)\n",
    "m3=math.gcd(59,9)\n",
    "\n",
    "# Confirm they are the same\n",
    "assert(n1==m1)\n",
    "assert(n2==m2)\n",
    "assert(n3==m3)\n",
    "\n",
    "# They are - print out the values for explanation\n",
    "print(\"gcd(50,10) =\",m1)\n",
    "print(\"gcd(99,1033) =\",m2)\n",
    "print(\"gcd(59,9) =\",m3)"
   ]
  },
  {
   "cell_type": "code",
   "execution_count": 37,
   "metadata": {},
   "outputs": [
    {
     "name": "stdout",
     "output_type": "stream",
     "text": [
      "The secret prime numbers p and q are: 13 19\n",
      "modulus n (p*q)= 247\n"
     ]
    }
   ],
   "source": [
    "# Choosing two prime numbers and keep them secret\n",
    "p = 13\n",
    "q = 19\n",
    "print(\"The secret prime numbers p and q are:\", p, q)\n",
    "\n",
    "# Calculate n which is the modulus for both the public and private keys\n",
    "n = p * q\n",
    "print(\"modulus n (p*q)=\",n)"
   ]
  },
  {
   "cell_type": "code",
   "execution_count": 38,
   "metadata": {},
   "outputs": [
    {
     "name": "stdout",
     "output_type": "stream",
     "text": [
      "The secret Euler's function (totient) [phi(n)]: 216\n",
      "Public Key (e): 5\n"
     ]
    }
   ],
   "source": [
    "# Compute Euler's totient function, φ(n) and keep it secret\n",
    "phi = (p-1) * (q-1)\n",
    "print(\"The secret Euler's function (totient) [phi(n)]:\",phi)\n",
    "\n",
    "# Choose an integer e such that e and φ(n) are coprime\n",
    "e = 2\n",
    "while (e < phi):\n",
    "    if (math.gcd(e, phi)==1):\n",
    "        break\n",
    "    else:\n",
    "        e += 1\n",
    "print(\"Public Key (e):\",e)"
   ]
  },
  {
   "cell_type": "code",
   "execution_count": 39,
   "metadata": {},
   "outputs": [
    {
     "name": "stdout",
     "output_type": "stream",
     "text": [
      "Private Key (d): 173\n",
      "The Public key is (5, 247) and Private Key is (173, 247)\n"
     ]
    }
   ],
   "source": [
    "# Compute a value for d such that (d * e) % φ(n) = 1\n",
    "d = 1\n",
    "while(True):\n",
    "    if((d*e) % phi == 1):\n",
    "        break\n",
    "    else:\n",
    "        d += 1\n",
    "print(\"Private Key (d):\",d)\n",
    "\n",
    "# Public and Private Key pair\n",
    "public = (e, n)\n",
    "private = (d, n)\n",
    "\n",
    "print(f\"The Public key is {public} and Private Key is {private}\")"
   ]
  },
  {
   "cell_type": "code",
   "execution_count": 41,
   "metadata": {},
   "outputs": [
    {
     "name": "stdout",
     "output_type": "stream",
     "text": [
      "Original Message: 98\n",
      "Encrypted Message: 167\n",
      "Decrypted Message: 98\n"
     ]
    }
   ],
   "source": [
    "# Encryption function\n",
    "def encrypt(plain_text):\n",
    "    return (plain_text ** e) % n\n",
    "\n",
    "# Decryption function\n",
    "def decrypt(cipher_text):\n",
    "    return (cipher_text ** d) % n\n",
    "\n",
    "# Simple message to encode\n",
    "msg = 98\n",
    "\n",
    "# encrypt then decrypt\n",
    "enc_msg = encrypt(msg)\n",
    "dec_msg = decrypt(enc_msg)\n",
    "\n",
    "print(\"Original Message:\",msg)\n",
    "print(\"Encrypted Message:\",enc_msg)\n",
    "print(\"Decrypted Message:\",dec_msg)"
   ]
  },
  {
   "cell_type": "code",
   "execution_count": 44,
   "metadata": {},
   "outputs": [
    {
     "name": "stdout",
     "output_type": "stream",
     "text": [
      "\n",
      "Symmetric key generated by Alice: b'uCO-TQF8sh5_feH2_gdeelv1Rl_rfpbP0moOg2wtkV8='\n",
      "Public key broadcast by Bob: <cryptography.hazmat.bindings._rust.openssl.rsa.RSAPublicKey object at 0x103d420d0>\n",
      "\n",
      "Public numbers in Bobs' public key: <RSAPublicNumbers(e=65537, n=28187510055955778481792063137912264844211376981087607349766998261818864248691619463894860035064635381064091317699303490688875040930610576807722342173689530362529478844930262670984233021341960920126041326144660502903800965943593175558868576024235920356965030118429774467683041328434005345313082449858105852953998320484004712302318626334940094727403217597778976172473768791311953002040029125950250069199013225953788592245822603199031439316571765357733640883731128080704440501577478262808321622804056702341237567460769384895980365818347847069819826381976551587707032699477695994126765921484186693310445101066207115388771)>\n",
      "Ciphertext: b'\\x8fThb^\\t6<\\xb4\\xe4\\xad(K\\xd1\\xd1\\x92_\\xcfJ\\xb0E\\xa0\\xd3\\xbc\\xf2}^s<\\xe6\\xb2\\xa1y\\xa4(/\\xfdP`\\xed\\xf4<}\\x81\\xcf\\xdaz\\xa0T\\xa3\\xe3~\\'\\xe6a\\x9cE\\x1bx\\xe1k\\xdb\\xb0\\x8f<\\xff\\x18\\xc6\\x8f\\x7faFI\\xb6\\xff\\xc8!\\xc4\\x0c/,\\xab\\x8d\\xd6I\\xa6X\\xfdi\\xd7\\t9\\xe6\\xd4c\\xdc}\\xeb\\x96l\\x04\\xdd\\xf1\\xb2A\\x947&(X\\xcc\\xfb:\\x00 \\x1dyTI?a\\xd4zWD\\xd1\\xbf\\x15\\xc0\\x12\\xb7\\x1c\\xbc\\xd6\\x92\\xa4\\xc8/\\xc9.O\\xdd\\tVI\\x1e\\x182+\\x9e\\x93\\xfc\\xe2.K4\\x06\\xac\\xe8\\x13z1\\x0b#$O\\xa1]\\x93\\xb0\\x06l\\xb2/\\x08i\\xd2\\xc8\\xeeN\\xf4wude~\\xa8/5\\xb3\\x94\\x98\\xc0\\xd1 )\\xeci\\xf5\\'PCL\\xcc\\xc5T\\x92\\xce\\x9c\\xa7s\\xa3\\x18\\xcb\\x1a]\\x1f\\xa8_\\x13\\'\\xb2\\x14\\xe2\\x82\\x0c\\xfe\\x1a\\x14\\xc3\\x06H\\x1c\\x15\\xec\\xfc\\x83s\\xb4%\\xbf\\xf8\\x85\\x851\\xf0\\xce\\x08\\xf6T\\x9fY\\xfd9\"k'\n",
      "Decrypted key: b'uCO-TQF8sh5_feH2_gdeelv1Rl_rfpbP0moOg2wtkV8='\n"
     ]
    }
   ],
   "source": [
    "from cryptography.hazmat.primitives import serialization\n",
    "from cryptography.hazmat.primitives.asymmetric import rsa, padding\n",
    "from cryptography.fernet import Fernet\n",
    "from cryptography.hazmat.primitives import hashes\n",
    "\n",
    "symmetric_key = Fernet.generate_key()\n",
    "print(f\"\\nSymmetric key generated by Alice: {symmetric_key}\")\n",
    "\n",
    "# Bob generates a 2048-bit RSA key pair\n",
    "bob_private_key = rsa.generate_private_key(public_exponent=65537, key_size=2048)\n",
    "bob_public_key = bob_private_key.public_key()\n",
    "print(f\"Public key broadcast by Bob: {bob_public_key}\")\n",
    "print(f\"\\nPublic numbers in Bobs' public key: {bob_public_key.public_numbers()}\")\n",
    "\n",
    "# Encryption\n",
    "ciphertext = bob_public_key.encrypt(\n",
    "   symmetric_key,\n",
    "   padding.OAEP(\n",
    "       mgf=padding.MGF1(algorithm=hashes.SHA256()),\n",
    "       algorithm=hashes.SHA256(),\n",
    "       label=None\n",
    "   )\n",
    ")\n",
    "\n",
    "print(\"Ciphertext:\", ciphertext)\n",
    "\n",
    "# Bob decrypts ciphertext to access the symmetric key\n",
    "decrypted_symmetric_key = bob_private_key.decrypt(\n",
    "   ciphertext,\n",
    "   padding.OAEP(\n",
    "       mgf=padding.MGF1(algorithm=hashes.SHA256()),\n",
    "       algorithm=hashes.SHA256(),\n",
    "       label=None\n",
    "   )\n",
    ")\n",
    "\n",
    "print(\"Decrypted key:\", decrypted_symmetric_key)\n",
    "assert decrypted_symmetric_key == symmetric_key"
   ]
  },
  {
   "cell_type": "code",
   "execution_count": 46,
   "metadata": {},
   "outputs": [
    {
     "name": "stdout",
     "output_type": "stream",
     "text": [
      "Bob's private and public keys created\n",
      "Alice's secret created\n",
      "Alice's secret encrypted\n",
      "Secrets match\n",
      "A symmetric key of length 256 bits was successfully derived by both Alice and Bob!\n"
     ]
    }
   ],
   "source": [
    "from cryptography.hazmat.primitives.asymmetric import rsa, padding\n",
    "from cryptography.hazmat.primitives.kdf.hkdf import HKDF\n",
    "from cryptography.hazmat.primitives import hashes, serialization\n",
    "from os import urandom\n",
    "\n",
    "# Bob's RSA key pair\n",
    "private_key_Bob = rsa.generate_private_key(public_exponent=65537, key_size=2048)\n",
    "public_key_Bob = private_key_Bob.public_key()\n",
    "\n",
    "print(\"Bob's private and public keys created\")\n",
    "\n",
    "Alice_long_secret = urandom(160)  # A 160 byte or 1280 bit random message\n",
    "print(\"Alice's secret created\")\n",
    "\n",
    "Alice_encrypted_secret = public_key_Bob.encrypt(\n",
    "    Alice_long_secret,\n",
    "    padding.OAEP(\n",
    "        mgf=padding.MGF1(algorithm=hashes.SHA256()),\n",
    "        algorithm=hashes.SHA256(),\n",
    "        label=None\n",
    "    )\n",
    ")\n",
    "print(\"Alice's secret encrypted\")\n",
    "\n",
    "Bob_decrypted_secret = private_key_Bob.decrypt(\n",
    "    Alice_encrypted_secret,\n",
    "    padding.OAEP(\n",
    "        mgf=padding.MGF1(algorithm=hashes.SHA256()),\n",
    "        algorithm=hashes.SHA256(),\n",
    "        label=None\n",
    "    )\n",
    ")\n",
    "\n",
    "assert Alice_long_secret == Bob_decrypted_secret, \"Secrets do not match!\"\n",
    "\n",
    "# if we get here they match\n",
    "print(\"Secrets match\")\n",
    "\n",
    "def key_derivation_function(secret, salt):\n",
    "    hkdf = HKDF(\n",
    "        algorithm=hashes.SHA256(),\n",
    "        length=32,  # Desired key length\n",
    "        salt=salt,\n",
    "        info=None,\n",
    "        backend=None\n",
    "    )\n",
    "    return hkdf.derive(secret)\n",
    "\n",
    "common_salt = urandom(16)  # Random salt accessible to both Alice and Bob\n",
    "\n",
    "symmetric_key_Alice = key_derivation_function(Alice_long_secret, common_salt)\n",
    "symmetric_key_Bob = key_derivation_function(Bob_decrypted_secret, common_salt)\n",
    "\n",
    "assert symmetric_key_Alice == symmetric_key_Bob, \"Derived keys do not match!\"\n",
    "print(f\"A symmetric key of length {len(symmetric_key_Alice)*8} bits was successfully derived by both Alice and Bob!\")"
   ]
  },
  {
   "cell_type": "code",
   "execution_count": 47,
   "metadata": {},
   "outputs": [
    {
     "name": "stdout",
     "output_type": "stream",
     "text": [
      "Private and Public keys generated for Bob and Alice.\n",
      "ciphertext of symmetric key:  b'-\\xd9\\xb0\\xa5\\xec\\xeb\\x03\\\\3\\rmF8x\\xbcp\\xd2\\x92\\x91B,9\\r\\xd2\\x00\\x8a8\\x842\\x1d_C\\x93\\x84\\xd5ll&\\x8b\\xa5\\xf7\\xf9\\x9e\\x1e@\\x10!\\xb92\\xd0\\x90=\\xef`\\xa8\\x05A\\xcdS\\x9bW\\n\\x07}Vz\\xad\\x92jat\\x024\\x13\\t\\xfbl3KA\\xe6Js\\x9dn|\\x1d8F\\xdd\\x8d\\x81\\xb3(\\xcb{\\xc3\\xbd\\x01.\\x8a%\\x0b|Q\\xd5)3\\xda\\x12\\xeb_\\xab#p\\x81>i\\x88\\x0e\\xbad\\xab5\\x84E\\xa2G2;\\xa5\\x13K\\xda-\\x83\\x91Wg\\x92g>\\xaf\\xc0\\r\\xb27\\xb2\\xbf\\xcf\\x9cs}\\xd6\\xbaH\\xaf\\x8f\\xf4\\x1e\\xfc\\x94\\x00\\xd7.)\\x1b\\x0f\\x94\\xbd\\xa5Bef\\t\\xf8\\x16\\xc2\\xaf\\x81\\xb4\\x1c\\xf2O!\\xda\\x836\\xd4jq\\x91\\xd2\\x80\\x01\\xa7\\xe4`\\xc8H\\x15=l\\xedEitI\\x80>q\\xa1I\\xbaF\\x8b\\nP\\x94\\xfc\\xb1\\x11\\xa0|\\xf1u;\\x17\\x96L\\xd5*y\\xe2|2x\\x93?b(\\xe1\\xfd\\xd8TZa6\\x8eK\\x1c\\x02\\x81j\\x9bu'\n",
      "signature:  b'/y/\\xb9\\xfa\\xd5\\xc3\\xbd\\x0e\\xda\\x95\\xb5\\x1dh\\xab\\xc2\\xdd@\\x91\\xbc\\xa4(2[\\xdb\\x8b\\xc5-N^\\\\\\xb6\\xcc\\x87\\xc2W\\x8f\\xd5/\\xb2#\\x05\\x86(\\xc5\\x7f\\x0f\\xa1\\xa9\\xa9\\xca\\xe3\\x96\\x19]\\xb1\\x8b\\x0e\\x86xK\\x95\\xc6\\x83\\xdd\\xe0\\x1b\\xb6\\xecW\\xceL\\x8a\\xe2\\xe2\\x81#?W@\\x9c/h`J\\x8a\\n`\\xf8l\\x10\\xae\\xd7M\\x04\\xf0\\x7f)\\x1f\\xda\\x8f.h\\xfbO2\\xad\\x13\\n\\x84<\\xd9\\xea\\x98m~\\xbd\\x9f\\x99Qr\\xc3\\xd8\\x00K\\xff\\x15$\\xe6\\x94\\x0b\\xbb\\xa7\\xe1\\xfe\\x98:\\x87\\xf3\\xd1\\xf6\\x96\\xfa;\\x07\\xde\\x97\\x99\\xc3#\\xfez\\x18l\\xdb\\xd9;\\xca\\x18\\xce\\xf1\\xb2T\\x89\\xd0\\xca*\\xf0\\x90\\x01\\xc6\\xde\\xe9FV\\xf1m\\x9e\\xbe\\x12#\\xbdd>\\xac\\\\51>\\x96\\x10G\\xed\\xd2\\x961!\\xa4{@\\xf4r\\x12\\xf8\\xcb\\x8c\\xd2/\\x0b%+v\\x9f\\xc8\\xf0\\x00K.r\\x9e\\xc0\\x06\\x1a\\x7fx\\xc2\\xd5\\xf8\\xcd>\\x91~\\xd5\\x02o\\xa9\\xc1\\x16\\xb6M\\n=\\xb5\\xa1]}\\xe5\\x1eZ&V^\\xd9\\x8b\\xc0-'\n",
      "Sending ciphertext and signature.....\n",
      "hash to verify:  b'\\x97\\xe5\\x92E\\x92\\xb7\\x94\\x92\\x83\\xf7;q\\xf7\\x96\\xa8dB\\xeff*O\\xbe\\xb9jxC\\xe7\\xd9k\\x81\\xd8P'\n",
      "The signature is valid.\n",
      "Decrypted message: uCO-TQF8sh5_feH2_gdeelv1Rl_rfpbP0moOg2wtkV8=\n"
     ]
    }
   ],
   "source": [
    "from cryptography.hazmat.primitives import hashes, serialization\n",
    "from cryptography.hazmat.primitives.asymmetric import padding, rsa\n",
    "from cryptography.hazmat.primitives.asymmetric.utils import Prehashed\n",
    "\n",
    "# Generate keys for Bob\n",
    "bob_private_key = rsa.generate_private_key(public_exponent=65537, key_size=2048)\n",
    "bob_public_key = bob_private_key.public_key()\n",
    "\n",
    "# Generate keys for Alice\n",
    "alice_private_key = rsa.generate_private_key(public_exponent=65537, key_size=2048)\n",
    "alice_public_key = alice_private_key.public_key()\n",
    "\n",
    "print(\"Private and Public keys generated for Bob and Alice.\")\n",
    "\n",
    "# Alice encrypts the message using Bob's public key\n",
    "ciphertext = bob_public_key.encrypt(\n",
    "    symmetric_key,\n",
    "    padding.OAEP(\n",
    "        mgf=padding.MGF1(algorithm=hashes.SHA256()),\n",
    "        algorithm=hashes.SHA256(),\n",
    "        label=None\n",
    "    )\n",
    ")\n",
    "\n",
    "print(\"ciphertext of symmetric key: \",ciphertext)\n",
    "\n",
    "# Alice signs the ciphertext using her private key\n",
    "digest = hashes.Hash(hashes.SHA256())\n",
    "digest.update(ciphertext)\n",
    "hash_to_sign = digest.finalize()\n",
    "\n",
    "signature = alice_private_key.sign(\n",
    "    hash_to_sign,\n",
    "    padding.PSS(\n",
    "        mgf=padding.MGF1(hashes.SHA256()),\n",
    "        salt_length=padding.PSS.MAX_LENGTH\n",
    "    ),\n",
    "    Prehashed(hashes.SHA256())\n",
    ")\n",
    "\n",
    "print(\"signature: \",signature)\n",
    "\n",
    "# Bob receives the ciphertext and signature\n",
    "received_ciphertext = ciphertext\n",
    "received_signature = signature\n",
    "\n",
    "# Send signature and ciphertext here\n",
    "print(\"Sending ciphertext and signature.....\")\n",
    "\n",
    "#Bob creates a hash of the ciphertext using the same algorithm used by Alice\n",
    "digest = hashes.Hash(hashes.SHA256())\n",
    "digest.update(received_ciphertext)\n",
    "hash_to_verify = digest.finalize()\n",
    "\n",
    "print(\"hash to verify: \",hash_to_verify)\n",
    "\n",
    "# Bob verifies the signature using Alice's public key\n",
    "try:\n",
    "    alice_public_key.verify(\n",
    "        received_signature,\n",
    "        hash_to_verify,\n",
    "        padding.PSS(\n",
    "            mgf=padding.MGF1(hashes.SHA256()),\n",
    "            salt_length=padding.PSS.MAX_LENGTH\n",
    "        ),\n",
    "        Prehashed(hashes.SHA256())\n",
    "    )\n",
    "    print(\"The signature is valid.\")\n",
    "except:\n",
    "    print(\"The signature is not valid.\")\n",
    "\n",
    "# Bob decrypts the message using his private key\n",
    "decrypted_message = bob_private_key.decrypt(\n",
    "    received_ciphertext,\n",
    "    padding.OAEP(\n",
    "        mgf=padding.MGF1(algorithm=hashes.SHA256()),\n",
    "        algorithm=hashes.SHA256(),\n",
    "        label=None\n",
    "    )\n",
    ")\n",
    "\n",
    "print(\"Decrypted message:\", decrypted_message.decode())"
   ]
  },
  {
   "cell_type": "code",
   "execution_count": 48,
   "metadata": {},
   "outputs": [
    {
     "name": "stdout",
     "output_type": "stream",
     "text": [
      "Checked 247 and 6 are coprime\n",
      "period r is: 36\n",
      "Checked 6^36 mod 247 is 1\n",
      "f1 = 101559956668415\n",
      "f2 = 101559956668417\n",
      "One possible prime factor of n (247) is: 19\n",
      "The second prime factor of n (247) is: 13\n",
      "The totient is: 216\n",
      "Private Key number: 173\n"
     ]
    }
   ],
   "source": [
    "n = 247  # the modulus\n",
    "e = 5    # public key number\n",
    "a = 6    # an integer coprime to n\n",
    "assert gcd(a, n) == 1\n",
    "print(f\"Checked {n} and {a} are coprime\")\n",
    "\n",
    "r=0\n",
    "rem = 100\n",
    "while(rem != 1):\n",
    "    r += 1\n",
    "    rem = (a**r) % n\n",
    "    \n",
    "print(f'period r is: {r}')\n",
    "assert a**r % n == 1\n",
    "\n",
    "print(f\"Checked {a}^{r} mod {n} is 1\")\n",
    "\n",
    "# explicitly use as integer\n",
    "f1 = int ( a**(r/2) - 1)\n",
    "f2 = int ( a**(r/2) + 1)\n",
    "\n",
    "print(f\"f1 = {f1}\")\n",
    "print(f\"f2 = {f2}\")\n",
    "\n",
    "q_found = gcd(f1, n)\n",
    "print(f'One possible prime factor of n ({n}) is: {q_found}')\n",
    "\n",
    "# explicit int (to avoid floating point)\n",
    "p_found = int ( n/q_found )\n",
    "print(f'The second prime factor of n ({n}) is: {p_found}')\n",
    "\n",
    "assert n == p_found * q_found\n",
    "\n",
    "#Compute the totient\n",
    "phi_found = ( p_found -1 ) * ( q_found - 1 ) \n",
    "print(f'The totient is: {phi_found}')\n",
    "\n",
    "#Recover the private key number d_found by satisfying (d_found * e) % phi_found = 1\n",
    "d_found = 1\n",
    "while(True):\n",
    "    if((d_found*e) % phi_found == 1):\n",
    "        break\n",
    "    else:\n",
    "        d_found += 1\n",
    "print(\"Private Key number:\",d_found)\n",
    "\n"
   ]
  },
  {
   "cell_type": "code",
   "execution_count": 49,
   "metadata": {},
   "outputs": [
    {
     "name": "stdout",
     "output_type": "stream",
     "text": [
      "prime: 11\n",
      "primitive root: 7\n",
      "Alice's private key is 4 and public key is 3\n",
      "Bob's private key is 8 and public key is 9\n",
      "The shared secret key is: 5\n"
     ]
    }
   ],
   "source": [
    "#Step 1: Choose a prime `p` and a primitive root `a`\n",
    "p = 11\n",
    "a = 7\n",
    "\n",
    "print(f\"prime: {p}\")\n",
    "print(f\"primitive root: {a}\")\n",
    "\n",
    "k_A = 4  #Alice's private key\n",
    "h_A = (a**(k_A)) % p #Alice's public key\n",
    "\n",
    "print(f\"Alice's private key is {k_A} and public key is {h_A}\")\n",
    "\n",
    "k_B = 8  #Bob's private key\n",
    "h_B = (a**(k_B)) % p #Bob's public key\n",
    "\n",
    "print(f\"Bob's private key is {k_B} and public key is {h_B}\")\n",
    "\n",
    "secret_key_alice  = h_B**k_A % p\n",
    "secret_key_bob = h_A**k_B % p \n",
    "assert secret_key_alice == secret_key_bob\n",
    "print(f'The shared secret key is: {secret_key_bob}')"
   ]
  }
 ],
 "metadata": {
  "kernelspec": {
   "display_name": "cwq",
   "language": "python",
   "name": "python3"
  },
  "language_info": {
   "codemirror_mode": {
    "name": "ipython",
    "version": 3
   },
   "file_extension": ".py",
   "mimetype": "text/x-python",
   "name": "python",
   "nbconvert_exporter": "python",
   "pygments_lexer": "ipython3",
   "version": "3.12.4"
  }
 },
 "nbformat": 4,
 "nbformat_minor": 2
}
